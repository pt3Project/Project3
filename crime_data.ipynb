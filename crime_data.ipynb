{
 "cells": [
  {
   "cell_type": "code",
   "execution_count": 1,
   "id": "98c75aa3",
   "metadata": {},
   "outputs": [],
   "source": [
    "import pandas as pd\n",
    "# !pip install openpyxl\n",
    "# Import data directly from website\n",
    "\n",
    "excel_file = 'Data_Tables_LGA_Criminal_Incidents_Year_Ending_March_2022.xlsx'\n",
    "all_sheets = pd.read_excel(excel_file, sheet_name=None)\n",
    "sheets = all_sheets.keys()\n",
    "\n",
    "for sheet_name in sheets:\n",
    "    sheet = pd.read_excel(excel_file, sheet_name=sheet_name)\n",
    "    sheet.to_csv(\"%s.csv\" % sheet_name, index=False)"
   ]
  },
  {
   "cell_type": "markdown",
   "id": "3d7cf85f",
   "metadata": {},
   "source": [
    "Contents\t\n",
    "Table 01\n",
    "\n",
    "* Criminal incidents and rate per 100,000 population by police region and local government area - April 2012 to March 2022\n",
    "\n",
    "Table 02\t\n",
    "\n",
    "* Criminal incidents and rate per 100,000 population by principal offence, local government area and police service area - April 2012 to March 2022\n",
    "\n",
    "Table 03\t\n",
    "\n",
    "* Criminal incidents by principal offence, local government area and postcode or suburb/town - April 2012 to March 2022\n",
    "\n",
    "Table 04\t\n",
    "\n",
    "* Criminal incidents by location type and local government area - April 2012 to March 2022\n",
    "\n",
    "Table 05\t\n",
    "\n",
    "* Criminal incidents by charge status and local government area - April 2012 to March 2022\n",
    "\t\n",
    "### Data exclusions\t\n",
    "Table 01 \n",
    "\n",
    "* excludes criminal incidents where the geographic location is unknown. For further information of these geographic locations please refer to the Explanatory Notes and Glossary on the website.\t\n",
    "\n",
    "Tables 02 - 05 \n",
    "\n",
    "* excludes criminal incidents at Justice institutions and immigration facilities, Unincorporated Victoria and where the geographic location is unknown. For further information of these geographic locations please refer to the Explanatory Notes and Glossary on the website.\t\n",
    "\t\n",
    "Notes\t\n",
    "Recorded crime statistics are based on data extracted by Victoria police on the 18th day after the reference period, and are subject to movement between releases. For more information about how statistics are compiled, refer to the Explanatory notes on the CSA website.\t\n",
    "In order to maintain confidentiality, sensitive offence counts for subdivisions 'A10 Homicide and related offences' and 'A30 Sexual offences' with a value of 3 or less are given a value of 2 to calculate totals.\t\n",
    "Rates are based on populations provided by the Australian Bureau of Statistics (ABS). The most recent year of data was not available from the ABS in time for it to be used to calculate current year rates. The CSA uses estimates created by the Victorian State Government 'Victoria in Futures' report. \t\n",
    "This work is licenced under a Creative Commons Attribution 4.0 International License. When reporting this data you must attribute the Crime Statistics Agency (or CSA) as the source."
   ]
  },
  {
   "cell_type": "code",
   "execution_count": 2,
   "id": "71f05015",
   "metadata": {},
   "outputs": [],
   "source": [
    "#Create list of dataframes from csv files\n",
    "file_list = []\n",
    "for i in range(1,6):\n",
    "    file_list.append(f\"Table 0{i}.csv\")\n",
    "\n",
    "df_list = [pd.read_csv(file) for file in file_list]"
   ]
  },
  {
   "cell_type": "code",
   "execution_count": 3,
   "id": "8a9fa4d3",
   "metadata": {},
   "outputs": [
    {
     "data": {
      "text/plain": [
       "['Table 01.csv',\n",
       " 'Table 02.csv',\n",
       " 'Table 03.csv',\n",
       " 'Table 04.csv',\n",
       " 'Table 05.csv']"
      ]
     },
     "execution_count": 3,
     "metadata": {},
     "output_type": "execute_result"
    }
   ],
   "source": [
    "file_list"
   ]
  },
  {
   "cell_type": "code",
   "execution_count": 4,
   "id": "40d60164",
   "metadata": {},
   "outputs": [],
   "source": [
    "df_list = [pd.read_csv(file) for file in file_list]"
   ]
  },
  {
   "cell_type": "code",
   "execution_count": null,
   "id": "09560951",
   "metadata": {
    "scrolled": true
   },
   "outputs": [],
   "source": [
    "# df_list[2].info()"
   ]
  },
  {
   "cell_type": "markdown",
   "id": "48c7d66e",
   "metadata": {},
   "source": [
    "Phuong - here is the table 01 data file - it meeds to ahve the space removed in front of each LGA name in the Local Government Area column - the codee that is there "
   ]
  },
  {
   "cell_type": "code",
   "execution_count": 6,
   "id": "3097146b",
   "metadata": {},
   "outputs": [
    {
     "data": {
      "text/html": [
       "<div>\n",
       "<style scoped>\n",
       "    .dataframe tbody tr th:only-of-type {\n",
       "        vertical-align: middle;\n",
       "    }\n",
       "\n",
       "    .dataframe tbody tr th {\n",
       "        vertical-align: top;\n",
       "    }\n",
       "\n",
       "    .dataframe thead th {\n",
       "        text-align: right;\n",
       "    }\n",
       "</style>\n",
       "<table border=\"1\" class=\"dataframe\">\n",
       "  <thead>\n",
       "    <tr style=\"text-align: right;\">\n",
       "      <th></th>\n",
       "      <th>Year</th>\n",
       "      <th>Police Region</th>\n",
       "      <th>Local Government Area</th>\n",
       "      <th>Incidents Recorded</th>\n",
       "      <th>Rate per 100,000 population</th>\n",
       "    </tr>\n",
       "  </thead>\n",
       "  <tbody>\n",
       "  </tbody>\n",
       "</table>\n",
       "</div>"
      ],
      "text/plain": [
       "Empty DataFrame\n",
       "Columns: [Year, Police Region, Local Government Area, Incidents Recorded, Rate per 100,000 population]\n",
       "Index: []"
      ]
     },
     "execution_count": 6,
     "metadata": {},
     "output_type": "execute_result"
    }
   ],
   "source": [
    "# df_list[0]['Date'] = df_list[0][]\n",
    "# police_region_df = df_list[0].loc[df_list[0].Year > 2018].drop('Year ending',axis=1)\n",
    "# police_region_df.head()\n",
    "# this code checked for the name of one of the LGAs - it did not sho any and wew knew ther were some thr which is how we identified\n",
    "#the fact tht there was a space before each of the LGA names\n",
    "police_region_df[police_region_df[\"Local Government Area\"]==\"Ballarat\"]"
   ]
  },
  {
   "cell_type": "code",
   "execution_count": 2,
   "id": "bd7cbc8b",
   "metadata": {},
   "outputs": [],
   "source": [
    "# This code aimed to remove that space - (Shamal helped create it)\n",
    "police_region_df[\"Local Government Area\"] = police_region_df[\"Local Government Area\"].str.strip()"
   ]
  },
  {
   "cell_type": "code",
   "execution_count": 8,
   "id": "fe6e84c6",
   "metadata": {
    "scrolled": true
   },
   "outputs": [
    {
     "data": {
      "text/plain": [
       "Year                             int64\n",
       "Police Region                   object\n",
       "Local Government Area           object\n",
       "Incidents Recorded               int64\n",
       "Rate per 100,000 population    float64\n",
       "dtype: object"
      ]
     },
     "execution_count": 8,
     "metadata": {},
     "output_type": "execute_result"
    }
   ],
   "source": [
    "police_region_df.dtypes"
   ]
  },
  {
   "cell_type": "code",
   "execution_count": 6,
   "id": "7f7aaf7a",
   "metadata": {
    "scrolled": true
   },
   "outputs": [
    {
     "data": {
      "text/html": [
       "<div>\n",
       "<style scoped>\n",
       "    .dataframe tbody tr th:only-of-type {\n",
       "        vertical-align: middle;\n",
       "    }\n",
       "\n",
       "    .dataframe tbody tr th {\n",
       "        vertical-align: top;\n",
       "    }\n",
       "\n",
       "    .dataframe thead th {\n",
       "        text-align: right;\n",
       "    }\n",
       "</style>\n",
       "<table border=\"1\" class=\"dataframe\">\n",
       "  <thead>\n",
       "    <tr style=\"text-align: right;\">\n",
       "      <th></th>\n",
       "      <th>Year</th>\n",
       "      <th>Police Region</th>\n",
       "      <th>Local Government Area</th>\n",
       "      <th>Incidents Recorded</th>\n",
       "      <th>Rate per 100,000 population</th>\n",
       "    </tr>\n",
       "  </thead>\n",
       "  <tbody>\n",
       "    <tr>\n",
       "      <th>0</th>\n",
       "      <td>2022</td>\n",
       "      <td>1 North West Metro</td>\n",
       "      <td>Banyule</td>\n",
       "      <td>5244</td>\n",
       "      <td>4086.865525</td>\n",
       "    </tr>\n",
       "    <tr>\n",
       "      <th>1</th>\n",
       "      <td>2022</td>\n",
       "      <td>1 North West Metro</td>\n",
       "      <td>Brimbank</td>\n",
       "      <td>12330</td>\n",
       "      <td>6200.959480</td>\n",
       "    </tr>\n",
       "    <tr>\n",
       "      <th>2</th>\n",
       "      <td>2022</td>\n",
       "      <td>1 North West Metro</td>\n",
       "      <td>Darebin</td>\n",
       "      <td>9276</td>\n",
       "      <td>5751.475727</td>\n",
       "    </tr>\n",
       "    <tr>\n",
       "      <th>3</th>\n",
       "      <td>2022</td>\n",
       "      <td>1 North West Metro</td>\n",
       "      <td>Hobsons Bay</td>\n",
       "      <td>4599</td>\n",
       "      <td>4804.896128</td>\n",
       "    </tr>\n",
       "    <tr>\n",
       "      <th>4</th>\n",
       "      <td>2022</td>\n",
       "      <td>1 North West Metro</td>\n",
       "      <td>Hume</td>\n",
       "      <td>12196</td>\n",
       "      <td>4919.684615</td>\n",
       "    </tr>\n",
       "  </tbody>\n",
       "</table>\n",
       "</div>"
      ],
      "text/plain": [
       "   Year       Police Region Local Government Area  Incidents Recorded  \\\n",
       "0  2022  1 North West Metro               Banyule                5244   \n",
       "1  2022  1 North West Metro              Brimbank               12330   \n",
       "2  2022  1 North West Metro               Darebin                9276   \n",
       "3  2022  1 North West Metro           Hobsons Bay                4599   \n",
       "4  2022  1 North West Metro                  Hume               12196   \n",
       "\n",
       "   Rate per 100,000 population  \n",
       "0                  4086.865525  \n",
       "1                  6200.959480  \n",
       "2                  5751.475727  \n",
       "3                  4804.896128  \n",
       "4                  4919.684615  "
      ]
     },
     "execution_count": 6,
     "metadata": {},
     "output_type": "execute_result"
    }
   ],
   "source": [
    "police_region_df.head()"
   ]
  },
  {
   "cell_type": "code",
   "execution_count": 4,
   "id": "3267d5c2",
   "metadata": {},
   "outputs": [],
   "source": [
    "# Berta this is the dtqa ser we need\n",
    "police_division_df = df_list[1].loc[df_list[1].Year > 2018].drop('Year ending',axis=1)\n",
    "police_division_df.head()"
   ]
  },
  {
   "cell_type": "code",
   "execution_count": 13,
   "id": "528f9c5d",
   "metadata": {},
   "outputs": [
    {
     "data": {
      "text/plain": [
       "Year                                 int64\n",
       "Police Service Area                 object\n",
       "Local Government Area               object\n",
       "Offence Division                    object\n",
       "Offence Subdivision                 object\n",
       "Offence Subgroup                    object\n",
       "Incidents Recorded                   int64\n",
       "PSA Rate per 100,000 population    float64\n",
       "LGA Rate per 100,000 population    float64\n",
       "dtype: object"
      ]
     },
     "execution_count": 13,
     "metadata": {},
     "output_type": "execute_result"
    }
   ],
   "source": [
    "police_division_df.dtypes "
   ]
  },
  {
   "cell_type": "code",
   "execution_count": 39,
   "id": "ba200de3",
   "metadata": {},
   "outputs": [],
   "source": [
    "#Convert police_region_df to csv\n",
    "\n",
    "police_region_df.to_csv(\"police_region.csv\")"
   ]
  },
  {
   "cell_type": "code",
   "execution_count": 5,
   "id": "e9a954f9",
   "metadata": {},
   "outputs": [],
   "source": [
    "csv_file = \"police_region.csv\"\n",
    "police_region_df = pd.read_csv(csv_file)\n",
    "police_region_df.head()"
   ]
  },
  {
   "cell_type": "code",
   "execution_count": null,
   "id": "89376e66",
   "metadata": {},
   "outputs": [],
   "source": [
    "#Convert police_division_df to csv\n",
    "\n",
    "police_division_df.to_csv(\"police_region.csv\")"
   ]
  },
  {
   "cell_type": "code",
   "execution_count": null,
   "id": "094b9042",
   "metadata": {},
   "outputs": [],
   "source": [
    "\n",
    "csv_file = \"police_division_df.csv\"\n",
    "police_division_df = pd.read_csv(csv_file)\n",
    "police_division_df.head() = pd.read_csv(csv_file)\n",
    "police_division_df.head()"
   ]
  },
  {
   "cell_type": "code",
   "execution_count": 44,
   "id": "09b30520",
   "metadata": {},
   "outputs": [],
   "source": [
    "from sqlalchemy import create_engine"
   ]
  },
  {
   "cell_type": "code",
   "execution_count": 45,
   "id": "39d4ff02",
   "metadata": {},
   "outputs": [],
   "source": [
    "#connect to local database\n",
    "rds_connection_string = \"postgres:Fedelma22!@localhost:5432/Project3\"\n",
    "engine = create_engine(f'postgresql://{rds_connection_string}')"
   ]
  },
  {
   "cell_type": "code",
   "execution_count": 47,
   "id": "364f2903",
   "metadata": {},
   "outputs": [],
   "source": [
    "# engine.table_names()"
   ]
  },
  {
   "cell_type": "code",
   "execution_count": null,
   "id": "b2f5a34c",
   "metadata": {},
   "outputs": [],
   "source": [
    "all_crime_data_df.to_sql(name='CRIME_DATA, con=engine, if_exists='append', index=False)"
   ]
  },
  {
   "cell_type": "code",
   "execution_count": null,
   "id": "0c014681",
   "metadata": {},
   "outputs": [],
   "source": [
    "pd.read_sql_query('select * from CRIME DATA', con=engine).head()"
   ]
  }
 ],
 "metadata": {
  "kernelspec": {
   "display_name": "Python 3 (ipykernel)",
   "language": "python",
   "name": "python3"
  },
  "language_info": {
   "codemirror_mode": {
    "name": "ipython",
    "version": 3
   },
   "file_extension": ".py",
   "mimetype": "text/x-python",
   "name": "python",
   "nbconvert_exporter": "python",
   "pygments_lexer": "ipython3",
   "version": "3.7.13"
  },
  "vscode": {
   "interpreter": {
    "hash": "4abd1faf7b2b10f26f9a505c3653863b06b1faf2a2cb062f8cbb37e3c36c3d7f"
   }
  }
 },
 "nbformat": 4,
 "nbformat_minor": 5
}
